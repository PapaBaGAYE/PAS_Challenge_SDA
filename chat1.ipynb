{
  "nbformat": 4,
  "nbformat_minor": 0,
  "metadata": {
    "colab": {
      "provenance": []
    },
    "kernelspec": {
      "name": "python3",
      "display_name": "Python 3"
    },
    "language_info": {
      "name": "python"
    },
    "accelerator": "GPU",
    "gpuClass": "standard"
  },
  "cells": [
    {
      "cell_type": "code",
      "execution_count": null,
      "metadata": {
        "colab": {
          "base_uri": "https://localhost:8080/"
        },
        "id": "xmmhikGAotws",
        "outputId": "d388a1b5-b147-4f12-c59f-71a6d860728a"
      },
      "outputs": [
        {
          "output_type": "stream",
          "name": "stdout",
          "text": [
            "Looking in indexes: https://pypi.org/simple, https://us-python.pkg.dev/colab-wheels/public/simple/\n",
            "Requirement already satisfied: nltk in /usr/local/lib/python3.7/dist-packages (3.7)\n",
            "Requirement already satisfied: tqdm in /usr/local/lib/python3.7/dist-packages (from nltk) (4.64.1)\n",
            "Requirement already satisfied: regex>=2021.8.3 in /usr/local/lib/python3.7/dist-packages (from nltk) (2022.6.2)\n",
            "Requirement already satisfied: click in /usr/local/lib/python3.7/dist-packages (from nltk) (7.1.2)\n",
            "Requirement already satisfied: joblib in /usr/local/lib/python3.7/dist-packages (from nltk) (1.2.0)\n"
          ]
        }
      ],
      "source": [
        "!pip install nltk                                "
      ]
    },
    {
      "cell_type": "code",
      "source": [
        "import nltk\n",
        "nltk.download('punkt')"
      ],
      "metadata": {
        "colab": {
          "base_uri": "https://localhost:8080/"
        },
        "id": "Cb0Af4Tro-Ng",
        "outputId": "52df1b9b-b392-487f-bd9e-ef8d38201984"
      },
      "execution_count": null,
      "outputs": [
        {
          "output_type": "stream",
          "name": "stderr",
          "text": [
            "[nltk_data] Downloading package punkt to /root/nltk_data...\n",
            "[nltk_data]   Unzipping tokenizers/punkt.zip.\n"
          ]
        },
        {
          "output_type": "execute_result",
          "data": {
            "text/plain": [
              "True"
            ]
          },
          "metadata": {},
          "execution_count": 1
        }
      ]
    },
    {
      "cell_type": "code",
      "source": [
        "!mkdir chatbot"
      ],
      "metadata": {
        "id": "F_xW2jQ8pF9C"
      },
      "execution_count": null,
      "outputs": []
    },
    {
      "cell_type": "code",
      "source": [
        "%%writefile chatbot/intents.json\n",
        "\n",
        "{\n",
        "  \"intents\": [\n",
        "    {\n",
        "      \"tag\": \"salutations\", \n",
        "      \"patterns\": [\n",
        "        \"Salut\",\n",
        "        \"Hé\",\n",
        "        \"Comment allez-vous\",\n",
        "        \"Est-ce que quelqu'un est là?\",\n",
        "        \"Bonjour\",\n",
        "        \"Bonsoir\",\n",
        "        \"Bonne journée\"\n",
        "      ],\n",
        "      \"responses\": [\n",
        "        \"Hé !\",\n",
        "        \"Bonjour, merci de votre visite\",\n",
        "        \"Bonjour, que puis-je faire pour vous ?\",\n",
        "        \"Bonjour, comment puis-je vous aider ? \"\n",
        "      ]\n",
        "    },\n",
        "    {\n",
        "      \"tag\": \"Au revoir\",   \n",
        "      \"patterns\": [\"Bye\", \"A plus tard\", \"Au revoir\"],\n",
        "      \"responses\": [\n",
        "       \"A plus tard, merci de votre visite\",\n",
        "      \" Passez une bonne journée\",\n",
        "      \" Au revoir ! Revenez bientôt.\"\n",
        "      ]\n",
        "    },\n",
        "    {\n",
        "      \"tag\": \"Merci\", \n",
        "      \"patterns\": [\"Merci\",\"C'est utile\", \"Merci beaucoup !\"],\n",
        "      \"responses\": [\"Heureux de vous aider !\", \"De rien à la prochaine!\", \"C'est avec plaisir\"]\n",
        "    },\n",
        "    {\n",
        "      \"tag\": \"Baccalauréat\", \n",
        "      \"patterns\": [\n",
        "        \"Je viens d'obtenir mon baccalauréat\",\n",
        "        \"J'ai le bac cette année\",\n",
        "        \"Je suis nouveau bachelier\"\n",
        "      ],\n",
        "      \"responses\": [ \"Toutes mes félicitations ! Vous avez obtenu quel bac (scientifique, littéraire ou technique)\"]\n",
        "    },\n",
        "    {\n",
        "      \"tag\": \"Bac scientifique\", \n",
        "      \"patterns\": [\n",
        "        \"J'ai le baccalauréat scientifique?\",\n",
        "        \"J'ai le bac S?\",\n",
        "        \"J'ai le bac S1\",\n",
        "        \"J'ai le bac S2\"\n",
        "      ],\n",
        "      \"responses\": [\n",
        "        \"Très bien. Puis je connaitre dans quelle matière t'as eu ta meilleure note ?\"\n",
        "      ]\n",
        "    },\n",
        "    {\n",
        "      \"tag\": \"Bac scientifique suite1\",\n",
        "      \"patterns\": [\n",
        "        \"J'ai une bonne note en Math\",\n",
        "        \"J'ai une bonne note en Mathématique\",\n",
        "        \"J'ai eu ma meilleure note en Math\",\n",
        "        \"J'ai eu ma meilleure note en Physique\"\n",
        "      ],\n",
        "      \"responses\": [\"Voici les formations post bac qui collent le mieux à votre profil:\\nMathématique et Informatique,\\nGenie électromécanique,\\nGenie civile,\\nLes métiers du pétrole et du gaz,\\nSystèmes, Réseaux et Télécoms,\\nCyber-Sécurité et cryptographie,\\nInformatique - Developpement d’applications (web, mobile, gaming, etc.)\\nL'admission aux grandes écoles militaires,\\nL'admission à l'école nationale de l'aviation civile ...\\nVous pourriez néanmoins consulter le site de Campusen(https://orientation.campusen.sn/formations/demandeurs),\\npour plus d'information sur les universités et les filières disponibles dans ces dernières.\"]\n",
        "    },\n",
        "    {\n",
        "      \"tag\": \"Bac scientifique suite2\",\n",
        "      \"patterns\": [\n",
        "        \"J'ai une bonne note en Science de la vie et de la terre\",\n",
        "        \"J'ai eu ma meilleure note en SVT\",\n",
        "        \"J'ai une bonne note en chimie\",\n",
        "        \"J'ai une bonne note en Physique chimie\",\n",
        "        \"J'ai une bonne note en PC et SVT\"\n",
        "      ],\n",
        "      \"responses\": [\"Voici les formations post bac qui collent le mieux à votre profil:\\nMédecine,\\nPhysique chimie,\\nAgriculture,\\nBiologie,\\nEcologie\\nHydrolique\\n\\nAgroforesterie,\\nAgronomie et Agroalimentaire\\nAquaculture\\nGenie électromécanique,\\nGenie civile,\\nEconomie et Gestion\\nLes métiers du pétrole et du gaz, ...\\nVous pourriez néanmoins consulter le site de Campusen(https://orientation.campusen.sn/formations/demandeurs),\\npour plus d'information sur les universités et les filières disponibles dans ces dernières.\"]\n",
        "    }\n",
        "\n",
        "  ]\n",
        "}\n"
      ],
      "metadata": {
        "colab": {
          "base_uri": "https://localhost:8080/"
        },
        "id": "pTzPK6SwrdO6",
        "outputId": "e212eaae-6606-40df-cac8-04c4c0c341af"
      },
      "execution_count": null,
      "outputs": [
        {
          "output_type": "stream",
          "name": "stdout",
          "text": [
            "Writing chatbot/intents.json\n"
          ]
        }
      ]
    },
    {
      "cell_type": "code",
      "source": [
        "%%writefile chatbot/nltk_utils.py\n",
        "\n",
        "import numpy as np\n",
        "import nltk\n",
        "# nltk.download('punkt')\n",
        "from nltk.stem.porter import PorterStemmer\n",
        "stemmer = PorterStemmer()\n",
        "\n",
        "def tokenize(sentence):\n",
        "    \"\"\"\n",
        "    split sentence into array of words/tokens\n",
        "    a token can be a word or punctuation character, or number\n",
        "    \"\"\"\n",
        "    return nltk.word_tokenize(sentence)\n",
        "\n",
        "\n",
        "def stem(word):\n",
        "    \"\"\"\n",
        "    stemming = find the root form of the word\n",
        "    examples:\n",
        "    words = [\"organize\", \"organizes\", \"organizing\"]\n",
        "    words = [stem(w) for w in words]\n",
        "    -> [\"organ\", \"organ\", \"organ\"]\n",
        "    \"\"\"\n",
        "    return stemmer.stem(word.lower())\n",
        "\n",
        "\n",
        "def bag_of_words(tokenized_sentence, words):\n",
        "    \"\"\"\n",
        "    return bag of words array:\n",
        "    1 for each known word that exists in the sentence, 0 otherwise\n",
        "    example:\n",
        "    sentence = [\"hello\", \"how\", \"are\", \"you\"]\n",
        "    words = [\"hi\", \"hello\", \"I\", \"you\", \"bye\", \"thank\", \"cool\"]\n",
        "    bog   = [  0 ,    1 ,    0 ,   1 ,    0 ,    0 ,      0]\n",
        "    \"\"\"\n",
        "    # stem each word\n",
        "    sentence_words = [stem(word) for word in tokenized_sentence]\n",
        "    # initialize bag with 0 for each word\n",
        "    bag = np.zeros(len(words), dtype=np.float32)\n",
        "    for idx, w in enumerate(words):\n",
        "        if w in sentence_words: \n",
        "            bag[idx] = 1\n",
        "\n",
        "    return bag"
      ],
      "metadata": {
        "colab": {
          "base_uri": "https://localhost:8080/"
        },
        "id": "huOB_v8xsEkN",
        "outputId": "79755b5d-7bdd-47d7-94d2-5fefb0f60199"
      },
      "execution_count": null,
      "outputs": [
        {
          "output_type": "stream",
          "name": "stdout",
          "text": [
            "Writing chatbot/nltk_utils.py\n"
          ]
        }
      ]
    },
    {
      "cell_type": "code",
      "source": [
        "%%writefile chatbot/model.py\n",
        "\n",
        "import torch\n",
        "import torch.nn as nn\n",
        "\n",
        "\n",
        "class NeuralNet(nn.Module):\n",
        "    def __init__(self, input_size, hidden_size, num_classes):\n",
        "        super(NeuralNet, self).__init__()\n",
        "        self.l1 = nn.Linear(input_size, hidden_size) \n",
        "        self.l2 = nn.Linear(hidden_size, hidden_size) \n",
        "        self.l3 = nn.Linear(hidden_size, num_classes)\n",
        "        self.relu = nn.ReLU()\n",
        "    \n",
        "    def forward(self, x):\n",
        "        out = self.l1(x)\n",
        "        out = self.relu(out)\n",
        "        out = self.l2(out)\n",
        "        out = self.relu(out)\n",
        "        out = self.l3(out)\n",
        "        # no activation and no softmax at the end\n",
        "        return out"
      ],
      "metadata": {
        "colab": {
          "base_uri": "https://localhost:8080/"
        },
        "id": "FHKsgiMCsN-9",
        "outputId": "cc177d29-1682-4ca6-a895-521cc92b57dc"
      },
      "execution_count": null,
      "outputs": [
        {
          "output_type": "stream",
          "name": "stdout",
          "text": [
            "Writing chatbot/model.py\n"
          ]
        }
      ]
    },
    {
      "cell_type": "code",
      "source": [
        "%%writefile chatbot/train.py\n",
        "\n",
        "import numpy as np\n",
        "import random\n",
        "import json\n",
        "\n",
        "import torch\n",
        "import torch.nn as nn\n",
        "from torch.utils.data import Dataset, DataLoader\n",
        "\n",
        "from nltk_utils import bag_of_words, tokenize, stem\n",
        "from model import NeuralNet\n",
        "\n",
        "with open('chatbot/intents.json', 'r') as f:\n",
        "  intents = json.load(f)\n",
        "\n",
        "all_words = []\n",
        "tags = []\n",
        "xy = []\n",
        "# loop through each sentence in our intents patterns\n",
        "for intent in intents['intents']:\n",
        "    tag = intent['tag']\n",
        "    # add to tag list\n",
        "    tags.append(tag)\n",
        "    for pattern in intent['patterns']:\n",
        "        # tokenize each word in the sentence\n",
        "        w = tokenize(pattern)\n",
        "        # add to our words list\n",
        "        all_words.extend(w)\n",
        "        # add to xy pair\n",
        "        xy.append((w, tag))\n",
        "\n",
        "# stem and lower each word\n",
        "ignore_words = ['?', '.', '!']\n",
        "all_words = [stem(w) for w in all_words if w not in ignore_words]\n",
        "# remove duplicates and sort\n",
        "all_words = sorted(set(all_words))\n",
        "tags = sorted(set(tags))\n",
        "\n",
        "print(len(xy), \"patterns\")\n",
        "print(len(tags), \"tags:\", tags)\n",
        "print(len(all_words), \"unique stemmed words:\", all_words)\n",
        "\n",
        "# create training data\n",
        "X_train = []\n",
        "y_train = []\n",
        "for (pattern_sentence, tag) in xy:\n",
        "    # X: bag of words for each pattern_sentence\n",
        "    bag = bag_of_words(pattern_sentence, all_words)\n",
        "    X_train.append(bag)\n",
        "    # y: PyTorch CrossEntropyLoss needs only class labels, not one-hot\n",
        "    label = tags.index(tag)\n",
        "    y_train.append(label)\n",
        "\n",
        "X_train = np.array(X_train)\n",
        "y_train = np.array(y_train)\n",
        "\n",
        "# Hyper-parameters \n",
        "num_epochs = 1000\n",
        "batch_size = 8\n",
        "learning_rate = 0.001\n",
        "input_size = len(X_train[0])\n",
        "hidden_size = 8\n",
        "output_size = len(tags)\n",
        "print(input_size, output_size)\n",
        "\n",
        "class ChatDataset(Dataset):\n",
        "\n",
        "    def __init__(self):\n",
        "        self.n_samples = len(X_train)\n",
        "        self.x_data = X_train\n",
        "        self.y_data = y_train\n",
        "\n",
        "    # support indexing such that dataset[i] can be used to get i-th sample\n",
        "    def __getitem__(self, index):\n",
        "        return self.x_data[index], self.y_data[index]\n",
        "\n",
        "    # we can call len(dataset) to return the size\n",
        "    def __len__(self):\n",
        "        return self.n_samples\n",
        "\n",
        "dataset = ChatDataset()\n",
        "train_loader = DataLoader(dataset=dataset,\n",
        "                          batch_size=batch_size,\n",
        "                          shuffle=True,\n",
        "                          num_workers=0)\n",
        "\n",
        "device = torch.device('cuda' if torch.cuda.is_available() else 'cpu')\n",
        "\n",
        "model = NeuralNet(input_size, hidden_size, output_size).to(device)\n",
        "\n",
        "# Loss and optimizer\n",
        "criterion = nn.CrossEntropyLoss()\n",
        "optimizer = torch.optim.Adam(model.parameters(), lr=learning_rate)\n",
        "\n",
        "# Train the model\n",
        "for epoch in range(num_epochs):\n",
        "    for (words, labels) in train_loader:\n",
        "        words = words.to(device)\n",
        "        labels = labels.to(dtype=torch.long).to(device)\n",
        "        \n",
        "        # Forward pass\n",
        "        outputs = model(words)\n",
        "        # if y would be one-hot, we must apply\n",
        "        # labels = torch.max(labels, 1)[1]\n",
        "        loss = criterion(outputs, labels)\n",
        "        \n",
        "        # Backward and optimize\n",
        "        optimizer.zero_grad()\n",
        "        loss.backward()\n",
        "        optimizer.step()\n",
        "        \n",
        "    if (epoch+1) % 100 == 0:\n",
        "        print (f'Epoch [{epoch+1}/{num_epochs}], Loss: {loss.item():.4f}')\n",
        "\n",
        "\n",
        "print(f'final loss: {loss.item():.4f}')\n",
        "\n",
        "data = {\n",
        "\"model_state\": model.state_dict(),\n",
        "\"input_size\": input_size,\n",
        "\"hidden_size\": hidden_size,\n",
        "\"output_size\": output_size,\n",
        "\"all_words\": all_words,\n",
        "\"tags\": tags\n",
        "}\n",
        "\n",
        "FILE = \"data.pth\"\n",
        "torch.save(data, FILE)\n",
        "\n",
        "print(f'training complete. file saved to {FILE}')"
      ],
      "metadata": {
        "colab": {
          "base_uri": "https://localhost:8080/"
        },
        "id": "QFEhkl7PswFI",
        "outputId": "14d434f6-fbc4-424f-b405-d97f090dbc31"
      },
      "execution_count": null,
      "outputs": [
        {
          "output_type": "stream",
          "name": "stdout",
          "text": [
            "Writing chatbot/train.py\n"
          ]
        }
      ]
    },
    {
      "cell_type": "code",
      "source": [
        "%%writefile chatbot/chat.py\n",
        "\n",
        "import random\n",
        "import json\n",
        "\n",
        "import torch\n",
        "\n",
        "from model import NeuralNet\n",
        "from nltk_utils import bag_of_words, tokenize\n",
        "\n",
        "device = torch.device('cuda' if torch.cuda.is_available() else 'cpu')\n",
        "\n",
        "with open('chatbot/intents.json', 'r') as json_data:\n",
        "\tintents = json.load(json_data)\n",
        "\n",
        "FILE = \"data.pth\"\n",
        "data = torch.load(FILE)\n",
        "\n",
        "input_size = data[\"input_size\"]\n",
        "hidden_size = data[\"hidden_size\"]\n",
        "output_size = data[\"output_size\"]\n",
        "all_words = data['all_words']\n",
        "tags = data['tags']\n",
        "model_state = data[\"model_state\"]\n",
        "\n",
        "model = NeuralNet(input_size, hidden_size, output_size).to(device)\n",
        "model.load_state_dict(model_state)\n",
        "model.eval()\n",
        "\n",
        "bot_name = \"Chat\"\n",
        "print(\"Let's chat! (type 'quit' to exit)\")\n",
        "while True:\n",
        "    # sentence = \"do you use credit cards?\"\n",
        "    sentence = input(\"You: \")\n",
        "    if sentence == \"quit\":\n",
        "        break\n",
        "\n",
        "    sentence = tokenize(sentence)\n",
        "    X = bag_of_words(sentence, all_words)\n",
        "    X = X.reshape(1, X.shape[0])\n",
        "    X = torch.from_numpy(X).to(device)\n",
        "\n",
        "    output = model(X)\n",
        "    _, predicted = torch.max(output, dim=1)\n",
        "\n",
        "    tag = tags[predicted.item()]\n",
        "\n",
        "    probs = torch.softmax(output, dim=1)\n",
        "    prob = probs[0][predicted.item()]\n",
        "    if prob.item() > 0.75:\n",
        "        for intent in intents['intents']:\n",
        "            if tag == intent[\"tag\"]:\n",
        "                print(f\"{bot_name}: {random.choice(intent['responses'])}\")\n",
        "    else:\n",
        "        print(f\"{bot_name}: I do not understand...\")"
      ],
      "metadata": {
        "colab": {
          "base_uri": "https://localhost:8080/"
        },
        "id": "qQ97lED2tC8p",
        "outputId": "b1ef0ec1-639e-492b-b0c0-71d784178ae1"
      },
      "execution_count": null,
      "outputs": [
        {
          "output_type": "stream",
          "name": "stdout",
          "text": [
            "Writing chatbot/chat0.py\n"
          ]
        }
      ]
    },
    {
      "cell_type": "code",
      "source": [
        "!python chatbot/train.py"
      ],
      "metadata": {
        "colab": {
          "base_uri": "https://localhost:8080/"
        },
        "id": "8E7Fu0RQtUJv",
        "outputId": "2d4f78f8-b850-4cc8-d819-44753b71c220"
      },
      "execution_count": null,
      "outputs": [
        {
          "output_type": "stream",
          "name": "stdout",
          "text": [
            "29 patterns\n",
            "7 tags: ['Au revoir', 'Bac scientifique', 'Bac scientifique suite1', 'Bac scientifique suite2', 'Baccalauréat', 'Merci', 'salutations']\n",
            "58 unique stemmed words: ['a', 'allez-v', 'anné', 'au', 'bac', 'baccalauréat', 'bacheli', 'beaucoup', 'bonjour', 'bonn', 'bonsoir', 'bye', \"c'est\", 'cett', 'chimi', 'comment', \"d'obtenir\", 'de', 'en', 'est', 'est-c', 'et', 'eu', 'hé', \"j'ai\", 'je', 'journé', 'la', 'le', 'là', 'ma', 'math', 'mathématiqu', 'meilleur', 'merci', 'mon', 'note', 'nouveau', 'pc', 'physiqu', 'plu', 'que', \"quelqu'un\", 'revoir', 's', 's1', 's2', 'salut', 'scienc', 'scientifiqu', 'sui', 'svt', 'tard', 'terr', 'une', 'util', 'vie', 'vien']\n",
            "58 7\n",
            "Epoch [100/1000], Loss: 0.9135\n",
            "Epoch [200/1000], Loss: 0.1330\n",
            "Epoch [300/1000], Loss: 0.0172\n",
            "Epoch [400/1000], Loss: 0.0082\n",
            "Epoch [500/1000], Loss: 0.0046\n",
            "Epoch [600/1000], Loss: 0.0031\n",
            "Epoch [700/1000], Loss: 0.0024\n",
            "Epoch [800/1000], Loss: 0.0004\n",
            "Epoch [900/1000], Loss: 0.0015\n",
            "Epoch [1000/1000], Loss: 0.0005\n",
            "final loss: 0.0005\n",
            "training complete. file saved to data.pth\n"
          ]
        }
      ]
    },
    {
      "cell_type": "code",
      "source": [
        "!python chatbot/chat.py"
      ],
      "metadata": {
        "colab": {
          "base_uri": "https://localhost:8080/"
        },
        "id": "ohE8kNpgtr1p",
        "outputId": "dee6281c-1e44-4f77-9966-b785482371ef"
      },
      "execution_count": null,
      "outputs": [
        {
          "output_type": "stream",
          "name": "stdout",
          "text": [
            "Let's chat! (type 'quit' to exit)\n",
            "You: quit\n"
          ]
        }
      ]
    }
  ]
}